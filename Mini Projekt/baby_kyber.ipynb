{
  "cells": [
    {
      "cell_type": "markdown",
      "metadata": {
        "id": "view-in-github",
        "colab_type": "text"
      },
      "source": [
        "<a href=\"https://colab.research.google.com/github/Jeremylaby/Kryptografia/blob/main/Mini%20Projekt/baby_kyber.ipynb\" target=\"_parent\"><img src=\"https://colab.research.google.com/assets/colab-badge.svg\" alt=\"Open In Colab\"/></a>"
      ]
    },
    {
      "cell_type": "markdown",
      "id": "4680a3d8",
      "metadata": {
        "id": "4680a3d8"
      },
      "source": [
        "# Mini Projekt - Baby Kyber"
      ]
    },
    {
      "cell_type": "markdown",
      "id": "c444d5d3",
      "metadata": {
        "id": "c444d5d3"
      },
      "source": [
        "## Pierścień $\\mathbb{Z}_{17}[X]/(X^4+1)$"
      ]
    },
    {
      "cell_type": "code",
      "execution_count": 66,
      "id": "c02fcaf6",
      "metadata": {
        "id": "c02fcaf6"
      },
      "outputs": [],
      "source": [
        "import numpy as np\n"
      ]
    },
    {
      "cell_type": "code",
      "execution_count": 81,
      "id": "1279a018",
      "metadata": {
        "id": "1279a018"
      },
      "outputs": [],
      "source": [
        "\n",
        "\n",
        "\n",
        "class ZnW:\n",
        "    def __init__(self, n, W):\n",
        "\n",
        "        self.n = n\n",
        "        self.W = np.array(W) % n\n",
        "\n",
        "    def reduce(self, poly):\n",
        "      poly = np.array(poly, dtype=int) % self.n\n",
        "      while len(poly) >= len(self.W):\n",
        "          factor = poly[-1]\n",
        "          degree_diff = len(poly) - len(self.W)\n",
        "\n",
        "          for i in range(len(self.W)):\n",
        "              poly[degree_diff + i] -= factor * self.W[i]\n",
        "          poly = poly % self.n\n",
        "          while len(poly) > 0 and poly[-1] == 0:\n",
        "              poly = poly[:-1]\n",
        "\n",
        "      return poly\n",
        "\n",
        "    def add(self, poly1, poly2):\n",
        "        result = np.polyadd(poly1[::-1], poly2[::-1]) % self.n\n",
        "        return self.reduce(result[::-1])\n",
        "\n",
        "    def mul(self, poly1, poly2):\n",
        "        result = np.polymul(poly1[::-1], poly2[::-1]) % self.n\n",
        "        return self.reduce(result[::-1])\n",
        "\n",
        "    def scalar_mul(self, scalar, poly):\n",
        "\n",
        "        result = (np.array(poly) * scalar) % self.n\n",
        "        return self.reduce(result)\n",
        "\n",
        "    def __repr__(self):\n",
        "        terms = []\n",
        "        for i in range(len(self.W) - 1, -1, -1):  # Iteracja od najwyższej potęgi\n",
        "            coeff = self.W[i]\n",
        "            if coeff != 0:  # Ignoruj współczynniki zerowe\n",
        "                if coeff == 1 and i != 0:  # Dla współczynnika 1 (bez \"1x\" lub \"1x^n\")\n",
        "                    if i == 1:\n",
        "                        terms.append(\"x\")\n",
        "                    else:\n",
        "                        terms.append(f\"x^{i}\")\n",
        "                elif coeff == -1 and i != 0:  # Dla współczynnika -1\n",
        "                    if i == 1:\n",
        "                        terms.append(\"-x\")\n",
        "                    else:\n",
        "                        terms.append(f\"-x^{i}\")\n",
        "                else:\n",
        "                    if i == 0:\n",
        "                        terms.append(f\"{coeff}\")\n",
        "                    elif i == 1:\n",
        "                        terms.append(f\"{coeff}x\")\n",
        "                    else:\n",
        "                        terms.append(f\"{coeff}x^{i}\")\n",
        "        poly_repr = \" + \".join(terms).replace(\"+ -\", \"- \") if terms else \"0\"  # Zmień \"+ -\" na \"-\"\n",
        "        return f\"ZnW({self.n}, {poly_repr})\"\n"
      ]
    },
    {
      "cell_type": "markdown",
      "id": "ffc5b429",
      "metadata": {
        "id": "ffc5b429"
      },
      "source": [
        "## Baby Kyber\n",
        "\n",
        "Zaimplementuj poniższe elementy kryptosystemu Baby Kyber tak, aby osiągnąć jak największą skuteczność w testach (przy niezerowych błędach). Wymagana minimalna skuteczność to 60%."
      ]
    },
    {
      "cell_type": "code",
      "execution_count": 82,
      "id": "25dbaa51",
      "metadata": {
        "id": "25dbaa51"
      },
      "outputs": [],
      "source": [
        "q= 17\n",
        "ring = ZnW(q, [1, 0, 0, 0, 1])"
      ]
    },
    {
      "cell_type": "markdown",
      "id": "9d5febcb",
      "metadata": {
        "id": "9d5febcb"
      },
      "source": [
        "### Generowanie klucza\n",
        "\n",
        "Zaimplementuj funkcję `key_gen()` realizującą generowanie klucza w kryptosystemie Baby Kyber. Funkcja ma zwracać `A,t,s`. Przetestuj, czy dla podanych $A,s,e$ otrzymasz poprawny wielomian $t$.\n",
        "\n",
        "$A=\\left[\\begin{matrix}\n",
        "    6x^3+16x^2+16x+11&9x^3+4x^2+6x+3\\\\\n",
        "    5x^3+3x^2+10x+1&6x^3+x^2+9x+15\n",
        "\\end{matrix}\\right]$\n",
        "\n",
        "$\\mathbf{s}=(-x^3-x^2+x,-x^3-x)$\n",
        "\n",
        "$\\mathbf{e}=(x^2,x^2-x)$\n",
        "\n",
        "$\\mathbf{t}=A\\mathbf{s}+\\mathbf{e}:\\ \\ \\mathbf{t}=(16x^3+15x^2+7,10x^3+12x^2+11x+6)$"
      ]
    },
    {
      "cell_type": "code",
      "source": [],
      "metadata": {
        "colab": {
          "base_uri": "https://localhost:8080/"
        },
        "id": "FS6e2uei2WiR",
        "outputId": "5799f1b0-4947-4736-89b7-b609965998c0"
      },
      "id": "FS6e2uei2WiR",
      "execution_count": 6,
      "outputs": [
        {
          "output_type": "stream",
          "name": "stdout",
          "text": [
            "ZnW(17, 6x^3 + 16x^2 + 16x + 15)\n",
            "ZnW(17, 15x^3 + 3x^2 + 10x + 2)\n"
          ]
        }
      ]
    },
    {
      "cell_type": "code",
      "execution_count": 83,
      "id": "069eefca",
      "metadata": {
        "colab": {
          "base_uri": "https://localhost:8080/"
        },
        "id": "069eefca",
        "outputId": "a591cd2f-8495-4324-d6c8-f7b491f42714"
      },
      "outputs": [
        {
          "output_type": "stream",
          "name": "stdout",
          "text": [
            "A: [[[11, 16, 16, 6], [3, 6, 4, 9]], [[1, 10, 3, 5], [15, 9, 1, 6]]]\n",
            "t: [[7, 0, 15, 16], [6, 11, 12, 10]]\n",
            "s: [[0, 1, 16, 16], [0, 16, 0, 16]]\n"
          ]
        }
      ],
      "source": [
        "def key_gen():\n",
        "  A = [\n",
        "        [ [11,16,16, 6],  [3,6, 4,9] ],\n",
        "        [ [ 1, 10, 3,5],  [15, 9, 1, 6] ]\n",
        "    ]\n",
        "\n",
        "  s = [\n",
        "        [0, 1, 16, 16],\n",
        "        [0, 16, 0, 16]\n",
        "    ]\n",
        "\n",
        "  e = [\n",
        "        [0, 0, 1, 0],\n",
        "        [0, 16, 1, 0]\n",
        "    ]\n",
        "\n",
        "  t = []\n",
        "  for i in range(2):\n",
        "      part1 = ring.mul(A[i][0], s[0])\n",
        "      part2 = ring.mul(A[i][1], s[1])\n",
        "      sum_  = ring.add(part1, part2)\n",
        "      ti = ring.add(sum_, e[i])\n",
        "      t.append(list(ti))\n",
        "\n",
        "  return (A, t, s)\n",
        "A,t,s = key_gen()\n",
        "print(f'A: {A}')\n",
        "print(f't: {t}')\n",
        "print(f's: {s}')\n",
        "\n"
      ]
    },
    {
      "cell_type": "markdown",
      "id": "60e43683",
      "metadata": {
        "id": "60e43683"
      },
      "source": [
        "### Szyfrowanie\n",
        "\n",
        "Zaimplementuj funkcję `encrypt(A,t,m)` realizującą szyfrowanie w kryptosystemie Baby Kyber a gdzie wejściowe `m` jest w postaci listy. Funkcja ma zwracać szyfrogram `c`. Przetestuj poprawność działania na poniższych danych.\n",
        "\n",
        "$m=1\\cdot x^3+0\\cdot x^2+1\\cdot x+1=x^3+x+1$\n",
        "\n",
        "$\\mathbf{r}=(-x^3+x^2,x^3+x^2-1)$\n",
        "\n",
        "$\\mathbf{e_1}=(x^2+x,x^2)$\n",
        "\n",
        "$e_2=-x^3-x^2$\n",
        "\n",
        "$\\mathbf{u}=A^T\\mathbf{r}+\\mathbf{e_1}:\\ \\ \\mathbf{u}=(11x^3+11x^2+10x+3,4x^3+4x^2+13x+11)$\n",
        "\n",
        "$v=\\mathbf{t}^T\\mathbf{r}+e_2+\\lfloor\\frac{q}{2}\\rceil m:\\ \\ v=8x^3+6x^2+9x+16$\n",
        "\n",
        "$\\mathbf{c}=(\\mathbf{u},v):\\ \\ \\mathbf{c}=((11x^3+11x^2+10x+3,4x^3+4x^2+13x+11),8x^3+6x^2+9x+16)$"
      ]
    },
    {
      "cell_type": "code",
      "execution_count": 84,
      "id": "902d15cc",
      "metadata": {
        "colab": {
          "base_uri": "https://localhost:8080/"
        },
        "id": "902d15cc",
        "outputId": "46512090-1921-4de8-f861-6b2e5cf7cd60"
      },
      "outputs": [
        {
          "output_type": "stream",
          "name": "stdout",
          "text": [
            "c: ([[3, 10, 11, 11], [11, 13, 4, 4]], [16, 9, 6, 8])\n"
          ]
        }
      ],
      "source": [
        "import math\n",
        "m=[1,1,0,1]\n",
        "def encrypt(A,t,m):\n",
        "  r=[[0,0,1,16,0],[16,0,1,1,0]]\n",
        "  e1=[[0,1,1,0,0],[0,0,1,0,0]]\n",
        "  e2=[0,0,16,16,0]\n",
        "  u=[]\n",
        "  for i in range(2):\n",
        "      part1 = ring.mul(A[0][i], r[0])\n",
        "      part2 = ring.mul(A[1][i], r[1])\n",
        "      sum_  = ring.add(part1, part2)\n",
        "      ui = ring.add(sum_, e1[i])\n",
        "      u.append(list(ui))\n",
        "  #print(f'u: {u}')\n",
        "  part1 = ring.mul(t[0], r[0])\n",
        "  part2 = ring.mul(t[1], r[1])\n",
        "  sum_  = ring.add(part1, part2)\n",
        "  v = ring.add(sum_, e2)\n",
        "  #print(round(17 / 2))\n",
        "  v = list(ring.add(v, ring.scalar_mul(9,m)))\n",
        "  #print(f'v: {v}')\n",
        "  return (u,v)\n",
        "c = encrypt(A,t,m)\n",
        "print(f'c: {c}')\n"
      ]
    },
    {
      "cell_type": "markdown",
      "id": "c0b5fd48",
      "metadata": {
        "id": "c0b5fd48"
      },
      "source": [
        "### Deszyfrowanie\n",
        "\n",
        "Zaimplementuj funkcję `decrypt(c,s)` realizującą deszyfrowanie w kryptosystemie Baby Kyber. Funkcja ma zwracać ostateczną odszyfrowaną wiadomość `m_n`. Przetestuj działanie na poniższych danych.\n",
        "\n",
        "$m_n=v-\\mathbf{s}^T\\mathbf{u}:\\ \\ m_n=8x^3+14x^2+8x+6$\n",
        "\n",
        "$m_n=1\\cdot x^3+0\\cdot x^2+1\\cdot x+1$\n"
      ]
    },
    {
      "cell_type": "code",
      "execution_count": 85,
      "id": "9d5ea81f",
      "metadata": {
        "colab": {
          "base_uri": "https://localhost:8080/"
        },
        "id": "9d5ea81f",
        "outputId": "b73b78a8-1006-4c60-9b0b-407385cd6c62"
      },
      "outputs": [
        {
          "output_type": "stream",
          "name": "stdout",
          "text": [
            "m_n: [1, 1, 0, 1]\n"
          ]
        }
      ],
      "source": [
        "def decrypt(c,s):\n",
        "  u, v = c\n",
        "  part1 = ring.mul(s[0], u[0])\n",
        "  part2 = ring.mul(s[1], u[1])\n",
        "  sum_su = ring.add(part1, part2)\n",
        "  m_n = ring.add(v, [-v for v in sum_su])\n",
        "  #print(m_n)\n",
        "  m_n= [0 if x<abs(9-x) or abs(9-x) > abs(17-x)else 1 for x in m_n]\n",
        "  return list(m_n)\n",
        "m_n = decrypt(c,s)\n",
        "print(f'm_n: {m_n}')\n"
      ]
    },
    {
      "cell_type": "markdown",
      "id": "c3bf409c",
      "metadata": {
        "id": "c3bf409c"
      },
      "source": [
        "### Testy"
      ]
    },
    {
      "cell_type": "code",
      "execution_count": 86,
      "id": "839e9142",
      "metadata": {
        "colab": {
          "base_uri": "https://localhost:8080/"
        },
        "id": "839e9142",
        "outputId": "5dc64a65-5d0e-44b7-a2a2-0125d5c37f14"
      },
      "outputs": [
        {
          "output_type": "stream",
          "name": "stdout",
          "text": [
            "Success rate: 100.0 %\n"
          ]
        }
      ],
      "source": [
        "import secrets as sc\n",
        "\n",
        "success = 0\n",
        "for i in range(1000):\n",
        "    output = []\n",
        "    A,t,s = key_gen()\n",
        "\n",
        "    m=[sc.choice((0,1)) for k in range(4)]\n",
        "\n",
        "    c = encrypt(A,t,m)\n",
        "    m_n = decrypt(c,s)\n",
        "\n",
        "    if m_n == m:\n",
        "        success += 1\n",
        "\n",
        "print(f'Success rate: {success * 100 /1000} %')\n"
      ]
    },
    {
      "cell_type": "code",
      "execution_count": null,
      "id": "d24e1a49",
      "metadata": {
        "id": "d24e1a49"
      },
      "outputs": [],
      "source": []
    }
  ],
  "metadata": {
    "kernelspec": {
      "display_name": "Python 3 (ipykernel)",
      "language": "python",
      "name": "python3"
    },
    "language_info": {
      "codemirror_mode": {
        "name": "ipython",
        "version": 3
      },
      "file_extension": ".py",
      "mimetype": "text/x-python",
      "name": "python",
      "nbconvert_exporter": "python",
      "pygments_lexer": "ipython3",
      "version": "3.10.12"
    },
    "colab": {
      "provenance": [],
      "include_colab_link": true
    }
  },
  "nbformat": 4,
  "nbformat_minor": 5
}