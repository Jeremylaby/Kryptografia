{
  "cells": [
    {
      "cell_type": "markdown",
      "id": "b0043b1f",
      "metadata": {
        "id": "b0043b1f"
      },
      "source": [
        "# Arytmetyka w ciałach Galois\n",
        "\n",
        "## Co to jest ciało Galois?\n",
        "\n",
        "**Ciałem Galois** nazywamy ciało $(G,+,\\cdot)$ o skończonej liczbie elementów. Najprostszym przykładem takiego ciała są $\\mathbb{Z}_p$, gdzie $p$ jest liczbą pierwszą. *Rzędem* ciała skończonego nazywamy liczbę jego elementów. Ciała skończone tego samego rzędu są izomorficzne, tzn. istnieje pomiędzy nimi bijekcja zachowująca działania.\n",
        "\n",
        "Kolejnym ważnym przykładem ciała Galois jest pierścień ilorazowy $\\mathbb{Z}_p[X]/W(X)$, gdzie $p$ jest liczbą pierwszą a $W$ jest nierozkładalnym wielomianem monicznym stopnia $n$ (czyli takim, którego współczynnik przy $X^n$ jest równy 1).\n",
        "\n",
        "## Pierścień $\\mathbb{Z}_n$\n",
        "\n",
        "W ciele $\\mathbb{Z}$ wprowadzamy relację równoważności $\\mod n$ (gdzie $n$ jest ustaloną dodatnią liczbą naturalną):\n",
        "$$a\\equiv_n b\\Leftrightarrow [a]_n=[b]_n$$\n",
        "gdzie $[]_n$ oznacza resztę z dzielenia przez $n$.\n",
        "\n",
        "Arytmetyka $\\mod n$:$$a+b=[a+b]_n$$ $$ab=[ab]_n$$"
      ]
    },
    {
      "cell_type": "markdown",
      "id": "d91341b6",
      "metadata": {
        "id": "d91341b6"
      },
      "source": [
        "**Pierwiastkiem pierwotnym** $\\mod n$ nazywamy liczbę, której potęgi $\\mod n$ dają wszystkie reszty z dzielenia przez $n$, które są względnie pierwsze z $n$. Pierwiastek pierwotny istnieje tylko dla następujących $n$:\n",
        "- $n=p^k$, gdzie $p$ jest liczbą pierwszą różną od 2\n",
        "- $n=2p^k$, gdzie $p$ - j.w.\n",
        "- $n=2$ lub $n=4$\n",
        "\n",
        "Przykładowo, wszystkie reszty z dzielenia przez 5 względnie pierwsze z 5 to 4,3,2,1 (zero odpada - nie jest względnie pierwsze). Kolejne potęgi $2^k \\mod 5$ to\n",
        "- $2^1 \\mod 5=2$\n",
        "- $2^2 \\mod 5=4$\n",
        "- $2^3 \\mod 5=3$\n",
        "- $2^4 \\mod 5=1$\n",
        "\n",
        "czyli 2 jest pierwiastkiem pierwotnym $\\mod 5$."
      ]
    },
    {
      "cell_type": "markdown",
      "id": "f796ef8e",
      "metadata": {
        "id": "f796ef8e"
      },
      "source": [
        "### Sage math:\n",
        "Konstruujemy pierścień `R=Integers(n)` lub `R=IntegerModRing(n)`, gdzie za `n` podajemy ustaloną liczbę naturalną. Jeżeli chcemy poznać postać liczby `x` w tym pierścieniu, to piszemy `R(x)`. Inną opcją jest funkcja `mod(x,n)`"
      ]
    },
    {
      "cell_type": "code",
      "execution_count": null,
      "id": "b4db6339",
      "metadata": {
        "colab": {
          "background_save": true
        },
        "id": "b4db6339",
        "outputId": "60db5eb4-5ef8-4c21-e01e-b58e70adf41c"
      },
      "outputs": [
        {
          "ename": "NameError",
          "evalue": "name 'Integers' is not defined",
          "output_type": "error",
          "traceback": [
            "\u001b[0;31m---------------------------------------------------------------------------\u001b[0m",
            "\u001b[0;31mNameError\u001b[0m                                 Traceback (most recent call last)",
            "\u001b[0;32m<ipython-input-9-2ecf6a48d2e3>\u001b[0m in \u001b[0;36m<cell line: 1>\u001b[0;34m()\u001b[0m\n\u001b[0;32m----> 1\u001b[0;31m \u001b[0mR\u001b[0m\u001b[0;34m=\u001b[0m\u001b[0mIntegers\u001b[0m\u001b[0;34m(\u001b[0m\u001b[0;36m3\u001b[0m\u001b[0;34m)\u001b[0m\u001b[0;34m\u001b[0m\u001b[0;34m\u001b[0m\u001b[0m\n\u001b[0m\u001b[1;32m      2\u001b[0m \u001b[0mx\u001b[0m\u001b[0;34m=\u001b[0m\u001b[0mR\u001b[0m\u001b[0;34m(\u001b[0m\u001b[0;36m5\u001b[0m\u001b[0;34m)\u001b[0m\u001b[0;34m\u001b[0m\u001b[0;34m\u001b[0m\u001b[0m\n\u001b[1;32m      3\u001b[0m \u001b[0mprint\u001b[0m\u001b[0;34m(\u001b[0m\u001b[0mx\u001b[0m\u001b[0;34m)\u001b[0m\u001b[0;34m\u001b[0m\u001b[0;34m\u001b[0m\u001b[0m\n\u001b[1;32m      4\u001b[0m \u001b[0mprint\u001b[0m\u001b[0;34m(\u001b[0m\u001b[0mtype\u001b[0m\u001b[0;34m(\u001b[0m\u001b[0mx\u001b[0m\u001b[0;34m)\u001b[0m\u001b[0;34m)\u001b[0m\u001b[0;34m\u001b[0m\u001b[0;34m\u001b[0m\u001b[0m\n",
            "\u001b[0;31mNameError\u001b[0m: name 'Integers' is not defined"
          ]
        }
      ],
      "source": [
        "\n",
        "R=Integers(3)\n",
        "x=R(5)\n",
        "print(x)\n",
        "print(type(x))"
      ]
    },
    {
      "cell_type": "code",
      "execution_count": null,
      "id": "d437e6b3",
      "metadata": {
        "id": "d437e6b3"
      },
      "outputs": [],
      "source": [
        "4*x"
      ]
    },
    {
      "cell_type": "code",
      "execution_count": null,
      "id": "f945f045",
      "metadata": {
        "id": "f945f045"
      },
      "outputs": [],
      "source": [
        "x+2"
      ]
    },
    {
      "cell_type": "code",
      "execution_count": null,
      "id": "8ad9b5d7",
      "metadata": {
        "id": "8ad9b5d7"
      },
      "outputs": [],
      "source": [
        "x^10"
      ]
    },
    {
      "cell_type": "code",
      "execution_count": null,
      "id": "86859c0a",
      "metadata": {
        "id": "86859c0a"
      },
      "outputs": [],
      "source": [
        "R(2+7)"
      ]
    },
    {
      "cell_type": "code",
      "execution_count": null,
      "id": "84417cfd",
      "metadata": {
        "id": "84417cfd"
      },
      "outputs": [],
      "source": [
        "R(2*4)"
      ]
    },
    {
      "cell_type": "code",
      "execution_count": null,
      "id": "259e5571",
      "metadata": {
        "id": "259e5571"
      },
      "outputs": [],
      "source": [
        "RR=IntegerModRing(5)\n",
        "x=RR(10)\n",
        "print(x)\n",
        "print(type(x))\n"
      ]
    },
    {
      "cell_type": "code",
      "execution_count": null,
      "id": "7cadde47",
      "metadata": {
        "id": "7cadde47"
      },
      "outputs": [],
      "source": [
        "x=mod(10,4)\n",
        "print(x)\n",
        "print(type(x))"
      ]
    },
    {
      "cell_type": "markdown",
      "id": "f287082e",
      "metadata": {
        "id": "f287082e"
      },
      "source": [
        "### Dzielenie w arytmetyce modularnej\n",
        "\n",
        "W momencie, gdy $p$ jest liczbą pierwszą, pierścień $\\mathbb{Z}_p$ jest czymś więcej - jest ciałem, czyli każdy niezerowy element posiada *element odwrotny*, a zatem możemy zdefiniować operację dzielenia:\n",
        "$$\n",
        "a/b=a*b^{-1}\n",
        "$$\n",
        "gdzie $b^{-1}$ oznacza właśnie element odwrotny do $b$, czyli taki, że $b^{-1}*b=b*b^{-1}=1$.\n",
        "\n",
        "W przypadku, gdy podstawą arytmetyki modularnej nie jest liczba pierwsza, to nie mamy do czynienia z ciałem to nie wszystkie elementy będą odwracalne (tzn. nie każde dzielenie jest wykonalne)."
      ]
    },
    {
      "cell_type": "code",
      "execution_count": null,
      "id": "9f50d95e",
      "metadata": {
        "id": "9f50d95e"
      },
      "outputs": [],
      "source": [
        "x=mod(4,5) #podstawa 5 - liczba pierwsza\n",
        "x/3        #liczbą odwrotną do 3 jest 2, bo 3*2 mod 5 = 1, czyli 4/3 mod 5 = 4*2 mod 5 = 3"
      ]
    },
    {
      "cell_type": "code",
      "execution_count": null,
      "id": "1875b4ba",
      "metadata": {
        "id": "1875b4ba"
      },
      "outputs": [],
      "source": [
        "y=mod(3,4) #podstawa 4 - nie jest liczbą pierwszą\n",
        "y/2        #każda wielokrotność 2 jest liczbą parzystą, zatem nigdy jej reszta z dzielenia przez 4 nie da 1\n",
        "           #zatem 2 nie jest odwracalne"
      ]
    },
    {
      "cell_type": "markdown",
      "id": "5b8ac8e6",
      "metadata": {
        "id": "5b8ac8e6"
      },
      "source": [
        "Pierwiastki pierwotne w Sage znajdujemy funkcją `primitive_root(n)`."
      ]
    },
    {
      "cell_type": "code",
      "execution_count": null,
      "id": "5c1b2de3",
      "metadata": {
        "id": "5c1b2de3"
      },
      "outputs": [],
      "source": [
        "x=primitive_root(1907)\n",
        "print(x)\n",
        "print(type(x))"
      ]
    },
    {
      "cell_type": "code",
      "execution_count": null,
      "id": "ed1f74d5",
      "metadata": {
        "id": "ed1f74d5"
      },
      "outputs": [],
      "source": [
        "primitive_root(15) #nie istnieją pierwiastki pierwotne mod 15"
      ]
    },
    {
      "cell_type": "markdown",
      "id": "76290854",
      "metadata": {
        "id": "76290854"
      },
      "source": [
        "### python:"
      ]
    },
    {
      "cell_type": "markdown",
      "id": "d1feb566",
      "metadata": {
        "id": "d1feb566"
      },
      "source": [
        "W pythonie nie poszalejemy - operator `%` zwraca resztę z dzielenia. I to tyle. Funkcje do arytmetyki mod $n$ można znaleźć w module SymPy."
      ]
    },
    {
      "cell_type": "code",
      "execution_count": null,
      "id": "627d5866",
      "metadata": {
        "id": "627d5866"
      },
      "outputs": [],
      "source": [
        "x=5%2\n",
        "print(x)\n",
        "print(type(x))"
      ]
    },
    {
      "cell_type": "markdown",
      "id": "4ef37075",
      "metadata": {
        "id": "4ef37075"
      },
      "source": [
        "## Zadanie 1.\n",
        "\n",
        "Zaimplementować w Pythonie klasę `Zn(N)`, czyli pierścień reszt z dzielenia przez `N`. Przeładować operatory `+`, `-`, `*`, `**` tak, aby na obiektach klasy wykonywały działania mod N, działania dodawania i mnożenia przez `int` oraz metodę `__repr__`."
      ]
    },
    {
      "cell_type": "code",
      "execution_count": 14,
      "id": "f4f0d383",
      "metadata": {
        "id": "f4f0d383"
      },
      "outputs": [],
      "source": [
        "class Zn:\n",
        "    def __init__(self,x,n):\n",
        "        self.x=x%n\n",
        "        self.n=n\n",
        "    def __repr__(self):\n",
        "        return f\"{self.x} (mod {self.n})\"\n",
        "    def __add__(self,other):\n",
        "      if isinstance(other,Zn):\n",
        "        return Zn(self.x+other.x,self.n)\n",
        "      if isinstance(other,int):\n",
        "        return Zn(self.x+other,self.n)\n",
        "    def __radd__(self, other):\n",
        "        return self.__add__(other)\n",
        "    def __sub__(self,other):\n",
        "      if isinstance(other,Zn):\n",
        "        return Zn(self.x-other.x,self.n)\n",
        "      if isinstance(other,int):\n",
        "        return Zn(self.x-other,self.n)\n",
        "    def __rsub__(self, other):\n",
        "      if isinstance(other, int):\n",
        "        return Zn(other - self.value, self.N)\n",
        "    def __mul__(self,other):\n",
        "      if isinstance(other,Zn):\n",
        "        return Zn(self.x*other.x,self.n)\n",
        "      if isinstance(other,int):\n",
        "        return Zn(self.x*other,self.n)\n",
        "    def __rmul__(self, other):\n",
        "        return self.__mul__(other)\n",
        "    def __pow__(self,other):\n",
        "      if isinstance(other,Zn):\n",
        "        return Zn(self.x**other.x,self.n)\n",
        "      if isinstance(other,int):\n",
        "        return Zn(self.x**other,self.n)"
      ]
    },
    {
      "cell_type": "code",
      "execution_count": 15,
      "id": "f9dece7e",
      "metadata": {
        "id": "f9dece7e",
        "colab": {
          "base_uri": "https://localhost:8080/"
        },
        "outputId": "46ea049e-88c2-48a3-b746-4930f4c3c285"
      },
      "outputs": [
        {
          "output_type": "stream",
          "name": "stdout",
          "text": [
            "2 (mod 7) 3 (mod 7) 0 (mod 7)\n",
            "2 (mod 7) 6 (mod 7) 1 (mod 7) 1 (mod 7) 1 (mod 7) 5 (mod 7) 5 (mod 7)\n"
          ]
        }
      ],
      "source": [
        "#TESTY\n",
        "\n",
        "x=Zn(2,7)\n",
        "y=Zn(10,7)\n",
        "z=Zn(14,7)\n",
        "\n",
        "print(x,y,z)\n",
        "#2 3 0\n",
        "print(x+z, x*y, x**y,6+x,x+6,4*y,y*4)\n",
        "#2 6 1 1 1 5 5"
      ]
    },
    {
      "cell_type": "markdown",
      "id": "0750ef60",
      "metadata": {
        "id": "0750ef60"
      },
      "source": [
        "## Pierścienie ilorazowe wielomianów\n",
        "\n",
        "Aby utworzyć pierścień ilorazowy $\\mathbb{Z}_n[X]/W(X)$ w Sage musimy najpierw utworzyć $\\mathbb{Z}_n[X]$, czyli pierścień wielomianów o współczynnikach z $\\mathbb{Z}_n$:\n",
        "\n",
        "`R=PolynomialRing(Integers(n),'X')`\n",
        "\n",
        "Jeżeli w dalszej części kodu mamy zamiar korzystać z wielomianów z tego pierścienia, to dobrze jest rozdzielić nazewnictwo zmiennych niezależnych\n",
        "\n",
        "`X=R.gen()`\n",
        "\n",
        "Teraz każdy wielomian zmiennej `X` będzie przez Sage traktowany jako element pierścienia `R`."
      ]
    },
    {
      "cell_type": "code",
      "execution_count": null,
      "id": "2a8a7cb1",
      "metadata": {
        "id": "2a8a7cb1"
      },
      "outputs": [],
      "source": [
        "R=PolynomialRing(Integers(5),'X')\n",
        "X=R.gen()\n",
        "\n",
        "X^6-13*X^4+12*X^2-10*X+6"
      ]
    },
    {
      "cell_type": "markdown",
      "id": "f606fdb6",
      "metadata": {
        "id": "f606fdb6"
      },
      "source": [
        "Pierścień ilorazowy tworzymy metodą `R.quotient(W,'x')`, gdzie `W` jest dowolnym wielomianem. Podobnie jak poprzednio dobrze jest od razu zdefiniować `x` jako zmienną niezależną wielomianów z nowego pierścienia."
      ]
    },
    {
      "cell_type": "code",
      "execution_count": null,
      "id": "c276fa4e",
      "metadata": {
        "id": "c276fa4e"
      },
      "outputs": [],
      "source": [
        "Rq=R.quotient(X^4+1,'x')\n",
        "x=Rq.gen()\n",
        "\n",
        "x^6-13*x^4+12*x^2-10*x+6"
      ]
    },
    {
      "cell_type": "code",
      "execution_count": null,
      "id": "04a7edfb",
      "metadata": {
        "id": "04a7edfb"
      },
      "outputs": [],
      "source": [
        "w1=7*x^6+14\n",
        "w2=24*x^4-5*x^2-7*x+13\n",
        "\n",
        "expand(w1*w2)"
      ]
    },
    {
      "cell_type": "markdown",
      "id": "c48d18d8",
      "metadata": {
        "id": "c48d18d8"
      },
      "source": [
        "## Zadanie 2\n",
        "\n",
        "Mając klasę `Zn(N)` zaimplementować w Pythonie klasę `ZnW(N,W)`, czyli pierścień ilorazowy $\\mathbb{Z}_n[X]/W(X)$ z działaniami dodawania i mnożenia wielomianów."
      ]
    },
    {
      "cell_type": "markdown",
      "id": "592a27cc",
      "metadata": {
        "id": "592a27cc"
      },
      "source": [
        "Dane testowe:"
      ]
    },
    {
      "cell_type": "markdown",
      "id": "4b263dcf",
      "metadata": {
        "id": "4b263dcf"
      },
      "source": [
        "$$w1=7x^6+14x^3$$\n",
        "$$w2=24x^4-5x^2-7x+13$$\n",
        "$$w3=23x^5-3x^4+x^3+35x^2+4$$"
      ]
    },
    {
      "cell_type": "markdown",
      "id": "da891d99",
      "metadata": {
        "id": "da891d99"
      },
      "source": [
        "Reprezentacja w $\\mathbb{Z}_{17}[X]/(X^4+1)$ (tzn. dla $n=17$ i $W(X)=X^4+1$):"
      ]
    },
    {
      "cell_type": "markdown",
      "id": "6fd2164a",
      "metadata": {
        "id": "6fd2164a"
      },
      "source": [
        "$$w1=14x^3 + 10x^2$$\n",
        "$$w2=12x^2 + 10x + 6$$\n",
        "$$w3=x^3 + x^2 + 11x + 7$$"
      ]
    },
    {
      "cell_type": "markdown",
      "id": "0c24611c",
      "metadata": {
        "id": "0c24611c"
      },
      "source": [
        "Arytmetyka:"
      ]
    },
    {
      "cell_type": "markdown",
      "id": "25cfaac4",
      "metadata": {
        "id": "25cfaac4"
      },
      "source": [
        "$$w1+w2=14x^3 + 5x^2 + 10x + 6$$\n",
        "$$w1*w2=14x^3 + 9x^2 + 2x + 12$$\n",
        "$$6*w3=6x^3 + 6x^2 + 15x + 8$$\n",
        "\n",
        "\n",
        "\n",
        "\n"
      ]
    },
    {
      "cell_type": "code",
      "execution_count": 46,
      "id": "d24cb816",
      "metadata": {
        "id": "d24cb816"
      },
      "outputs": [],
      "source": [
        "import numpy as np\n",
        "\n",
        "class ZnW:\n",
        "    def __init__(self, n, W):\n",
        "\n",
        "        self.n = n\n",
        "        self.W = np.array(W) % n\n",
        "\n",
        "    def reduce(self, poly):\n",
        "      poly = np.array(poly, dtype=int) % self.n\n",
        "      while len(poly) >= len(self.W):\n",
        "          factor = poly[-1]\n",
        "          degree_diff = len(poly) - len(self.W)\n",
        "\n",
        "          for i in range(len(self.W)):\n",
        "              poly[degree_diff + i] -= factor * self.W[i]\n",
        "          poly = poly % self.n\n",
        "          while len(poly) > 0 and poly[-1] == 0:\n",
        "              poly = poly[:-1]\n",
        "\n",
        "      return poly\n",
        "\n",
        "    def add(self, poly1, poly2):\n",
        "        result = np.polyadd(poly1[::-1], poly2[::-1]) % self.n\n",
        "        return self.reduce(result[::-1])\n",
        "\n",
        "    def mul(self, poly1, poly2):\n",
        "        result = np.polymul(poly1[::-1], poly2[::-1]) % self.n\n",
        "        return self.reduce(result[::-1])\n",
        "\n",
        "    def scalar_mul(self, scalar, poly):\n",
        "        result = (np.array(poly) * scalar) % self.n\n",
        "        return self.reduce(result)\n",
        "\n",
        "    def __repr__(self):\n",
        "        terms = []\n",
        "        for i in range(len(self.W) - 1, -1, -1):  # Iteracja od najwyższej potęgi\n",
        "            coeff = self.W[i]\n",
        "            if coeff != 0:  # Ignoruj współczynniki zerowe\n",
        "                if coeff == 1 and i != 0:  # Dla współczynnika 1 (bez \"1x\" lub \"1x^n\")\n",
        "                    if i == 1:\n",
        "                        terms.append(\"x\")\n",
        "                    else:\n",
        "                        terms.append(f\"x^{i}\")\n",
        "                elif coeff == -1 and i != 0:  # Dla współczynnika -1\n",
        "                    if i == 1:\n",
        "                        terms.append(\"-x\")\n",
        "                    else:\n",
        "                        terms.append(f\"-x^{i}\")\n",
        "                else:\n",
        "                    if i == 0:\n",
        "                        terms.append(f\"{coeff}\")\n",
        "                    elif i == 1:\n",
        "                        terms.append(f\"{coeff}x\")\n",
        "                    else:\n",
        "                        terms.append(f\"{coeff}x^{i}\")\n",
        "        poly_repr = \" + \".join(terms).replace(\"+ -\", \"- \") if terms else \"0\"  # Zmień \"+ -\" na \"-\"\n",
        "        return f\"ZnW({self.n}, {poly_repr})\"\n",
        ""
      ]
    },
    {
      "cell_type": "code",
      "execution_count": 48,
      "id": "19fdb77d",
      "metadata": {
        "id": "19fdb77d",
        "colab": {
          "base_uri": "https://localhost:8080/"
        },
        "outputId": "34b90441-e867-419d-f4a6-d859529f82a8"
      },
      "outputs": [
        {
          "output_type": "stream",
          "name": "stdout",
          "text": [
            "ZnW(17, x^4 + 1)\n",
            "[0, 0, 0, 14, 0, 0, 7]\n",
            "[13, -7, -5, 0, 24]\n",
            "[4, 0, 35, 1, -3, 23]\n",
            "w1 + w2 = ZnW(17, 14x^3 + 5x^2 + 10x + 6)\n",
            "w1 * w2 = ZnW(17, 14x^3 + 9x^2 + 2x + 12)\n",
            "6 * w3 = ZnW(17, 6x^3 + 6x^2 + 15x + 8)\n"
          ]
        }
      ],
      "source": [
        "ring = ZnW(17, [1, 0, 0, 0, 1])\n",
        "print(ring)\n",
        "w1 = [0, 0, 0, 14, 0, 0, 7]\n",
        "w2 = [13, -7, -5, 0, 24]\n",
        "w3 = [4, 0, 35, 1, -3, 23]\n",
        "print(w1)\n",
        "print(w2)\n",
        "print(w3)\n",
        "\n",
        "add_result = ring.add(w1, w2)\n",
        "print(\"w1 + w2 =\", ZnW(17,add_result))\n",
        "mul_result = ring.mul(w1, w2)\n",
        "print(\"w1 * w2 =\", ZnW(17,mul_result))\n",
        "scalar_mul_result = ring.scalar_mul(6, w3)\n",
        "print(\"6 * w3 =\", ZnW(17,scalar_mul_result))"
      ]
    }
  ],
  "metadata": {
    "colab": {
      "provenance": []
    },
    "kernelspec": {
      "display_name": "Python 3 (ipykernel)",
      "language": "python",
      "name": "python3"
    },
    "language_info": {
      "codemirror_mode": {
        "name": "ipython",
        "version": 3
      },
      "file_extension": ".py",
      "mimetype": "text/x-python",
      "name": "python",
      "nbconvert_exporter": "python",
      "pygments_lexer": "ipython3",
      "version": "3.11.5"
    }
  },
  "nbformat": 4,
  "nbformat_minor": 5
}